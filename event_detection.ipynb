{
 "cells": [
  {
   "cell_type": "code",
   "execution_count": 7,
   "id": "possible-alert",
   "metadata": {},
   "outputs": [
    {
     "data": {
      "image/png": "[encoded data removed]",
      "text/plain": [
       "<Figure size 432x288 with 1 Axes>"
      ]
     },
     "metadata": {
      "needs_background": "light"
     },
     "output_type": "display_data"
    }
   ],
   "source": [
    "# Import modules\n",
    "from evaluation_tools.nwis_client.iv import IVDataService\n",
    "from evaluation_tools.events.event_detection import decomposition as ev\n",
    "import pandas as pd\n",
    "import matplotlib.pyplot as plt\n",
    "%matplotlib inline\n",
    "\n",
    "# Retrieve streamflow data\n",
    "observations = IVDataService.get(\n",
    "    sites='02146470',\n",
    "    startDT='2019-10-01',\n",
    "    endDT='2020-09-30'\n",
    "    )\n",
    "\n",
    "# Isolate time series of streamflow measurements\n",
    "observations = observations[['value_date', 'value']]\n",
    "observations = observations.drop_duplicates(subset=['value_date'])\n",
    "observations = observations.set_index('value_date')\n",
    "observations = observations.resample('H').first().ffill()\n",
    "\n",
    "# Smooth noisy data\n",
    "observations['smooth'] = observations['value'].ewm(halflife='6H', times=observations.index).mean()\n",
    "\n",
    "# Model the trend using a 7-day rolling minimum\n",
    "observations['trend'] = ev.rolling_minimum(observations['smooth'], '7D')\n",
    "\n",
    "# Detrend the data\n",
    "observations['detrended'] = observations['smooth'].sub(observations['trend'])\n",
    "\n",
    "# Ignore detrended values below measurement precision\n",
    "observations.loc[(observations['detrended'] < 0.01), 'detrended'] = 0.0\n",
    "\n",
    "# Detrended signal should have a zero median\n",
    "residual = observations['detrended'].median() * 2.0\n",
    "observations.loc[(observations['detrended'] < residual), 'detrended'] = 0.0\n",
    "\n",
    "# Mask in-event measurements\n",
    "observations['event'] = (observations['detrended'] > 0.0)\n",
    "\n",
    "# Aggregate continguous event measurements into discrete events\n",
    "events = ev.event_boundaries(observations['event'])\n",
    "\n",
    "# Tweak events\n",
    "events['start'] = events['start'].apply(ev.find_local_minimum, radius='7H', timeseries=observations['value'])\n",
    "\n",
    "# Compute event durations\n",
    "events['duration'] = (events['end'].sub(events['start'])).div(pd.Timedelta('1H'))\n",
    "\n",
    "# Compute peak flows\n",
    "events['peak'] = events.apply(\n",
    "    lambda e: observations['value'].loc[e.start:e.end].max(),\n",
    "    axis=1\n",
    "    )\n",
    "\n",
    "# Filter out small events less than 6 hours or with peaks less than 10 CFS\n",
    "events = events[events['duration'] >= 6.0]\n",
    "events = events[events['peak'] >= 10.0]\n",
    "\n",
    "# Plot histogram of peaks and durations\n",
    "# observations[['value']].plot(logy=True)\n",
    "plt.hist(events['peak'], bins=20, density=True)\n",
    "# plt.plot(events['start'], events['duration'], 'o')\n",
    "# plt.ylim(0,50)\n",
    "plt.show()"
   ]
  },
  {
   "cell_type": "code",
   "execution_count": null,
   "id": "dressed-showcase",
   "metadata": {},
   "outputs": [],
   "source": []
  }
 ],
 "metadata": {
  "kernelspec": {
   "display_name": "Python 3",
   "language": "python",
   "name": "python3"
  },
  "language_info": {
   "codemirror_mode": {
    "name": "ipython",
    "version": 3
   },
   "file_extension": ".py",
   "mimetype": "text/x-python",
   "name": "python",
   "nbconvert_exporter": "python",
   "pygments_lexer": "ipython3",
   "version": "3.8.5"
  }
 },
 "nbformat": 4,
 "nbformat_minor": 5
}
