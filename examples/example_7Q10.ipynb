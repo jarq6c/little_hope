{
 "cells": [
  {
   "cell_type": "code",
   "execution_count": 1,
   "id": "8b694562-22a2-470d-8c27-ee615627bb22",
   "metadata": {},
   "outputs": [],
   "source": [
    "import xarray as xr\n",
    "import pandas as pd"
   ]
  },
  {
   "cell_type": "code",
   "execution_count": 2,
   "id": "35ecb5eb-0730-45cc-9b7f-0b65374136ec",
   "metadata": {},
   "outputs": [],
   "source": [
    "# Load data as pandas.Series\n",
    "streamflow = xr.open_dataarray(\"NWM_23606454.nc\").to_dataframe()[\"streamflow\"]"
   ]
  },
  {
   "cell_type": "code",
   "execution_count": 3,
   "id": "73fe65d1-9679-4dcb-8d52-6e9e42756d22",
   "metadata": {},
   "outputs": [
    {
     "data": {
      "text/plain": [
       "time\n",
       "1979-02-01 01:00:00    0.02\n",
       "1979-02-01 02:00:00    0.02\n",
       "1979-02-01 03:00:00    0.02\n",
       "1979-02-01 04:00:00    0.02\n",
       "1979-02-01 05:00:00    0.02\n",
       "Name: streamflow, dtype: float64"
      ]
     },
     "execution_count": 3,
     "metadata": {},
     "output_type": "execute_result"
    }
   ],
   "source": [
    "# Result is pandas.Series of streamflow data with a DateTimeIndex in m^3/s\n",
    "streamflow.head()"
   ]
  },
  {
   "cell_type": "code",
   "execution_count": 4,
   "id": "1dbc0bc3-7ccb-45da-a266-3626a2979e06",
   "metadata": {},
   "outputs": [
    {
     "data": {
      "text/plain": [
       "(Timestamp('1979-02-01 01:00:00'), Timestamp('2023-02-01 00:00:00'))"
      ]
     },
     "execution_count": 4,
     "metadata": {},
     "output_type": "execute_result"
    }
   ],
   "source": [
    "# Look at data limits\n",
    "streamflow.index.min(), streamflow.index.max()"
   ]
  },
  {
   "cell_type": "code",
   "execution_count": 5,
   "id": "eed7ea90-b45c-4f47-97a5-e5eb2d95e951",
   "metadata": {},
   "outputs": [],
   "source": [
    "# Trim to whole water-years (Oct 1 - Sep 30)\n",
    "# Note padding of 6 days so every water year\n",
    "# will have the same number of 7-day averages\n",
    "start = pd.Timestamp(\"1979-10-01T00:00\") - pd.Timedelta(\"6d\")\n",
    "end = pd.Timestamp(\"2022-09-30T23:00\")\n",
    "streamflow_trimmed = streamflow[start:end]"
   ]
  },
  {
   "cell_type": "code",
   "execution_count": 6,
   "id": "5346024b-ddac-43ca-ac9b-f93fb846b687",
   "metadata": {},
   "outputs": [],
   "source": [
    "# NWM data is hourly. The 7Q10 method assumes daily streamflow\n",
    "# We'll need to resample to daily mean streamflow, first\n",
    "streamflow_daily = streamflow_trimmed.resample(\"1D\", closed=\"left\", label=\"left\").mean()"
   ]
  },
  {
   "cell_type": "code",
   "execution_count": 7,
   "id": "f9c24fce-cdfa-4610-9f77-fe5a5ae83cd6",
   "metadata": {},
   "outputs": [],
   "source": [
    "# Resample to 7-day rolling average streamflow\n",
    "# Note that with NWM data, you shouldn't have to worry about\n",
    "# handling missing data. If this were observed, we'd need to handle that.\n",
    "streamflow_7day = streamflow_daily.rolling(window=\"7d\", min_periods=7).mean().dropna()"
   ]
  },
  {
   "cell_type": "code",
   "execution_count": 8,
   "id": "5fcc9605-3af4-4a44-a72f-2cb4dd77eaca",
   "metadata": {},
   "outputs": [
    {
     "data": {
      "text/plain": [
       "time\n",
       "1979-10-01    0.03\n",
       "1979-10-02    0.03\n",
       "1979-10-03    0.03\n",
       "1979-10-04    0.03\n",
       "1979-10-05    0.03\n",
       "Freq: D, Name: streamflow, dtype: float64"
      ]
     },
     "execution_count": 8,
     "metadata": {},
     "output_type": "execute_result"
    }
   ],
   "source": [
    "# Note that after all this resampling\n",
    "# we've lost the first six days of data\n",
    "# That is the first time we can take a 7-day average\n",
    "# is the end of the 7th day of the entire record.\n",
    "streamflow_7day.head()"
   ]
  },
  {
   "cell_type": "code",
   "execution_count": 13,
   "id": "ab988772-64d0-422e-a7b8-2064491b29e1",
   "metadata": {},
   "outputs": [],
   "source": [
    "# Now we compute the yearly minimums\n",
    "streamflow_yearly_min = streamflow_7day.resample(\"1YE\").min()\n",
    "\n",
    "# Update the index\n",
    "streamflow_yearly_min.index.name = \"water_year\"\n",
    "streamflow_yearly_min.index = streamflow_yearly_min.index.year"
   ]
  },
  {
   "cell_type": "code",
   "execution_count": 15,
   "id": "19b48d1f-199d-43e5-adc0-e48a31885428",
   "metadata": {},
   "outputs": [
    {
     "data": {
      "text/plain": [
       "water_year\n",
       "1979    0.020000\n",
       "1980    0.020000\n",
       "1981    0.021964\n",
       "1982    0.020000\n",
       "1983    0.010000\n",
       "Name: streamflow, dtype: float64"
      ]
     },
     "execution_count": 15,
     "metadata": {},
     "output_type": "execute_result"
    }
   ],
   "source": [
    "streamflow_yearly_min.head()"
   ]
  },
  {
   "cell_type": "code",
   "execution_count": 20,
   "id": "380d1cdc-9154-4a0a-b4e3-40e3bd59933f",
   "metadata": {},
   "outputs": [
    {
     "data": {
      "text/plain": [
       "'Empirical 7Q10 rounded to model precision is 0.01 m^3/s'"
      ]
     },
     "execution_count": 20,
     "metadata": {},
     "output_type": "execute_result"
    }
   ],
   "source": [
    "# Empirical 7Q10\n",
    "empirical_7Q10 = streamflow_yearly_min.quantile(0.1)\n",
    "f\"Empirical 7Q10 rounded to model precision is {empirical_7Q10:.2f} m^3/s\""
   ]
  },
  {
   "cell_type": "code",
   "execution_count": null,
   "id": "2669d81f-adbf-4275-92f0-3f81d3481a0b",
   "metadata": {},
   "outputs": [],
   "source": [
    "# Fitting to a distribution\n",
    "# TODO"
   ]
  }
 ],
 "metadata": {
  "kernelspec": {
   "display_name": "Python 3 (ipykernel)",
   "language": "python",
   "name": "python3"
  },
  "language_info": {
   "codemirror_mode": {
    "name": "ipython",
    "version": 3
   },
   "file_extension": ".py",
   "mimetype": "text/x-python",
   "name": "python",
   "nbconvert_exporter": "python",
   "pygments_lexer": "ipython3",
   "version": "3.10.12"
  }
 },
 "nbformat": 4,
 "nbformat_minor": 5
}
