{
 "cells": [
  {
   "cell_type": "code",
   "execution_count": 1,
   "id": "8b694562-22a2-470d-8c27-ee615627bb22",
   "metadata": {},
   "outputs": [],
   "source": [
    "import xarray as xr\n",
    "import pandas as pd\n",
    "import numpy as np\n",
    "import matplotlib.pyplot as plt\n",
    "from scipy.stats import pearson3\n",
    "\n",
    "# Site info\n",
    "# https://waterdata.usgs.gov/monitoring-location/13338950/#parameterCode=00060&period=P7D&showMedian=false"
   ]
  },
  {
   "cell_type": "code",
   "execution_count": 2,
   "id": "35ecb5eb-0730-45cc-9b7f-0b65374136ec",
   "metadata": {},
   "outputs": [],
   "source": [
    "# Load data as pandas.Series\n",
    "streamflow = xr.open_dataarray(\"NWM_23606454.nc\").to_dataframe()[\"streamflow\"]"
   ]
  },
  {
   "cell_type": "code",
   "execution_count": 3,
   "id": "73fe65d1-9679-4dcb-8d52-6e9e42756d22",
   "metadata": {},
   "outputs": [
    {
     "data": {
      "text/plain": [
       "time\n",
       "1979-02-01 01:00:00    0.02\n",
       "1979-02-01 02:00:00    0.02\n",
       "1979-02-01 03:00:00    0.02\n",
       "1979-02-01 04:00:00    0.02\n",
       "1979-02-01 05:00:00    0.02\n",
       "Name: streamflow, dtype: float64"
      ]
     },
     "execution_count": 3,
     "metadata": {},
     "output_type": "execute_result"
    }
   ],
   "source": [
    "# Result is pandas.Series of streamflow data with a DateTimeIndex in m^3/s\n",
    "streamflow.head()"
   ]
  },
  {
   "cell_type": "code",
   "execution_count": 4,
   "id": "1dbc0bc3-7ccb-45da-a266-3626a2979e06",
   "metadata": {},
   "outputs": [
    {
     "data": {
      "text/plain": [
       "(Timestamp('1979-02-01 01:00:00'), Timestamp('2023-02-01 00:00:00'))"
      ]
     },
     "execution_count": 4,
     "metadata": {},
     "output_type": "execute_result"
    }
   ],
   "source": [
    "# Look at data limits\n",
    "streamflow.index.min(), streamflow.index.max()"
   ]
  },
  {
   "cell_type": "code",
   "execution_count": 5,
   "id": "eed7ea90-b45c-4f47-97a5-e5eb2d95e951",
   "metadata": {},
   "outputs": [],
   "source": [
    "# Trim to whole water-years (Oct 1 - Sep 30)\n",
    "# Note padding of 6 days so every water year\n",
    "# will have the same number of 7-day averages\n",
    "start = pd.Timestamp(\"1979-10-01T00:00\") - pd.Timedelta(\"6d\")\n",
    "end = pd.Timestamp(\"2022-09-30T23:00\")\n",
    "streamflow_trimmed = streamflow[start:end]"
   ]
  },
  {
   "cell_type": "code",
   "execution_count": 6,
   "id": "5346024b-ddac-43ca-ac9b-f93fb846b687",
   "metadata": {},
   "outputs": [],
   "source": [
    "# NWM data is hourly. The 7Q10 method assumes daily streamflow\n",
    "# We'll need to resample to daily mean streamflow, first\n",
    "streamflow_daily = streamflow_trimmed.resample(\"1D\", closed=\"left\", label=\"left\").mean()"
   ]
  },
  {
   "cell_type": "code",
   "execution_count": 7,
   "id": "f9c24fce-cdfa-4610-9f77-fe5a5ae83cd6",
   "metadata": {},
   "outputs": [],
   "source": [
    "# Resample to 7-day rolling average streamflow\n",
    "# Note that with NWM data, you shouldn't have to worry about\n",
    "# handling missing data. If this were observed, we'd need to handle that.\n",
    "streamflow_7day = streamflow_daily.rolling(window=\"7d\", min_periods=7).mean().dropna()"
   ]
  },
  {
   "cell_type": "code",
   "execution_count": 8,
   "id": "5fcc9605-3af4-4a44-a72f-2cb4dd77eaca",
   "metadata": {},
   "outputs": [
    {
     "data": {
      "text/plain": [
       "time\n",
       "1979-10-01    0.03\n",
       "1979-10-02    0.03\n",
       "1979-10-03    0.03\n",
       "1979-10-04    0.03\n",
       "1979-10-05    0.03\n",
       "Freq: D, Name: streamflow, dtype: float64"
      ]
     },
     "execution_count": 8,
     "metadata": {},
     "output_type": "execute_result"
    }
   ],
   "source": [
    "# Note that after all this resampling\n",
    "# we've lost the first six days of data\n",
    "# That is the first time we can take a 7-day average\n",
    "# is the end of the 7th day of the entire record.\n",
    "streamflow_7day.head()"
   ]
  },
  {
   "cell_type": "code",
   "execution_count": 9,
   "id": "ab988772-64d0-422e-a7b8-2064491b29e1",
   "metadata": {},
   "outputs": [],
   "source": [
    "# Now we compute the yearly minimums\n",
    "streamflow_yearly_min = streamflow_7day.resample(\"1YE\").min()\n",
    "\n",
    "# Update the index\n",
    "streamflow_yearly_min.index.name = \"water_year\"\n",
    "streamflow_yearly_min.index = streamflow_yearly_min.index.year"
   ]
  },
  {
   "cell_type": "code",
   "execution_count": 10,
   "id": "19b48d1f-199d-43e5-adc0-e48a31885428",
   "metadata": {},
   "outputs": [
    {
     "data": {
      "text/plain": [
       "water_year\n",
       "1979    0.020000\n",
       "1980    0.020000\n",
       "1981    0.021964\n",
       "1982    0.020000\n",
       "1983    0.010000\n",
       "Name: streamflow, dtype: float64"
      ]
     },
     "execution_count": 10,
     "metadata": {},
     "output_type": "execute_result"
    }
   ],
   "source": [
    "streamflow_yearly_min.head()"
   ]
  },
  {
   "cell_type": "code",
   "execution_count": 11,
   "id": "380d1cdc-9154-4a0a-b4e3-40e3bd59933f",
   "metadata": {},
   "outputs": [
    {
     "data": {
      "text/plain": [
       "'Empirical 7Q10 rounded to model precision is 0.01 m^3/s'"
      ]
     },
     "execution_count": 11,
     "metadata": {},
     "output_type": "execute_result"
    }
   ],
   "source": [
    "# Empirical 7Q10\n",
    "empirical_7Q10 = streamflow_yearly_min.quantile(0.1)\n",
    "f\"Empirical 7Q10 rounded to model precision is {empirical_7Q10:.2f} m^3/s\""
   ]
  },
  {
   "cell_type": "code",
   "execution_count": 12,
   "id": "2669d81f-adbf-4275-92f0-3f81d3481a0b",
   "metadata": {},
   "outputs": [
    {
     "data": {
      "text/plain": [
       "'Fitted 7Q10 rounded to model precision is 0.01 m^3/s'"
      ]
     },
     "execution_count": 12,
     "metadata": {},
     "output_type": "execute_result"
    }
   ],
   "source": [
    "# Fitting to a distribution\n",
    "pearson_params = pearson3.fit(streamflow_yearly_min)\n",
    "fitted_7Q10 = pearson3.ppf(0.1, *pearson_params)\n",
    "f\"Fitted 7Q10 rounded to model precision is {fitted_7Q10:.2f} m^3/s\""
   ]
  },
  {
   "cell_type": "code",
   "execution_count": 13,
   "id": "df5bb1ac-f3f3-4da7-b4d8-716d550290b9",
   "metadata": {},
   "outputs": [
    {
     "ename": "NameError",
     "evalue": "name 'params' is not defined",
     "output_type": "error",
     "traceback": [
      "\u001b[0;31m---------------------------------------------------------------------------\u001b[0m",
      "\u001b[0;31mNameError\u001b[0m                                 Traceback (most recent call last)",
      "Cell \u001b[0;32mIn[13], line 3\u001b[0m\n\u001b[1;32m      1\u001b[0m \u001b[38;5;66;03m# Plot fit\u001b[39;00m\n\u001b[1;32m      2\u001b[0m x \u001b[38;5;241m=\u001b[39m np\u001b[38;5;241m.\u001b[39mlinspace(streamflow_yearly_min\u001b[38;5;241m.\u001b[39mmin(), streamflow_yearly_min\u001b[38;5;241m.\u001b[39mmax(), \u001b[38;5;241m100\u001b[39m)\n\u001b[0;32m----> 3\u001b[0m y \u001b[38;5;241m=\u001b[39m pearson3\u001b[38;5;241m.\u001b[39mcdf(x, \u001b[38;5;241m*\u001b[39m\u001b[43mparams\u001b[49m)\n\u001b[1;32m      4\u001b[0m y_emp \u001b[38;5;241m=\u001b[39m np\u001b[38;5;241m.\u001b[39mlinspace(\u001b[38;5;241m0.05\u001b[39m, \u001b[38;5;241m0.95\u001b[39m, \u001b[38;5;241m19\u001b[39m)\n\u001b[1;32m      5\u001b[0m x_emp \u001b[38;5;241m=\u001b[39m streamflow_yearly_min\u001b[38;5;241m.\u001b[39mquantile(y_emp)\n",
      "\u001b[0;31mNameError\u001b[0m: name 'params' is not defined"
     ]
    }
   ],
   "source": [
    "# Plot fit\n",
    "x = np.linspace(streamflow_yearly_min.min(), streamflow_yearly_min.max(), 100)\n",
    "y = pearson3.cdf(x, *pearson_params)\n",
    "y_emp = np.linspace(0.05, 0.95, 19)\n",
    "x_emp = streamflow_yearly_min.quantile(y_emp)\n",
    "plt.plot(x, y, label=\"Fitted\")\n",
    "plt.plot(x_emp, y_emp, \".\", label=\"Empirical\")\n",
    "plt.xlabel(\"Annual Minimum 7-day Average ($m^3 s^{-1}$)\")\n",
    "plt.ylabel(\"Probability\")\n",
    "plt.legend()\n",
    "plt.show()"
   ]
  },
  {
   "cell_type": "code",
   "execution_count": null,
   "id": "6e999752-1c6c-432d-b848-a2716a31aff3",
   "metadata": {},
   "outputs": [],
   "source": [
    "# Notice in the plot above that the fitted distribution is a lot smoother\n",
    "# This is because the model output has fixed precision (0.01 m^3/s)\n",
    "# When dealing with low flow thresholds that are going to be applied to \n",
    "# modeled streamflow, the increased precision of the fitted distribution\n",
    "# isn't really doing anything. So in this case it may be better to just go with \n",
    "# the empirical values."
   ]
  }
 ],
 "metadata": {
  "kernelspec": {
   "display_name": "Python 3 (ipykernel)",
   "language": "python",
   "name": "python3"
  },
  "language_info": {
   "codemirror_mode": {
    "name": "ipython",
    "version": 3
   },
   "file_extension": ".py",
   "mimetype": "text/x-python",
   "name": "python",
   "nbconvert_exporter": "python",
   "pygments_lexer": "ipython3",
   "version": "3.10.12"
  }
 },
 "nbformat": 4,
 "nbformat_minor": 5
}
