{
 "cells": [
  {
   "cell_type": "code",
   "execution_count": 1,
   "id": "8b694562-22a2-470d-8c27-ee615627bb22",
   "metadata": {},
   "outputs": [],
   "source": [
    "from pathlib import Path\n",
    "import xarray as xr\n",
    "import pandas as pd\n",
    "import numpy as np\n",
    "import matplotlib.pyplot as plt\n",
    "from scipy.stats import pearson3"
   ]
  },
  {
   "cell_type": "code",
   "execution_count": 2,
   "id": "18c0c267-85c0-4e6a-9f22-1a847e61924b",
   "metadata": {},
   "outputs": [],
   "source": [
    "def retrieve_retro_data(\n",
    "    feature_id: int,\n",
    "    odir: Path = Path(\"NWM_data\"),\n",
    "    url: str = \"s3://noaa-nwm-retrospective-3-0-pds/CONUS/zarr/chrtout.zarr\"\n",
    ") -> pd.Series:\n",
    "    \"\"\"This function retrieves NWM retrospective data from AWS\n",
    "    and returns a pandas.Series of streamflow data for a single\n",
    "    channel feature.\n",
    "    \"\"\"\n",
    "    # Check local file\n",
    "    ofile = odir / f\"NWM_{feature_id}.nc\"\n",
    "    if ofile.exists():\n",
    "        return xr.open_dataarray(ofile).to_dataframe()[\"streamflow\"]\n",
    "\n",
    "    # Get xarray.dataset\n",
    "    # Requires s3fs and zarr be installed\n",
    "    ds = xr.open_dataset(\n",
    "        url,\n",
    "        backend_kwargs={\n",
    "            \"storage_options\": {\"anon\": True},\n",
    "            \"consolidated\": True\n",
    "        },\n",
    "        engine=\"zarr\"\n",
    "    )\n",
    "\n",
    "    # Extract time series data\n",
    "    da = ds.streamflow.sel(feature_id=feature_id)\n",
    "\n",
    "    # Save\n",
    "    odir.mkdir(exist_ok=True, parents=True)\n",
    "    da.to_netcdf(ofile)\n",
    "\n",
    "    # Return Series\n",
    "    return da.to_dataframe()[\"streamflow\"]"
   ]
  },
  {
   "cell_type": "code",
   "execution_count": 3,
   "id": "35ecb5eb-0730-45cc-9b7f-0b65374136ec",
   "metadata": {},
   "outputs": [],
   "source": [
    "# Load data as pandas.Series\n",
    "streamflow = retrieve_retro_data(23606454)"
   ]
  },
  {
   "cell_type": "code",
   "execution_count": 4,
   "id": "73fe65d1-9679-4dcb-8d52-6e9e42756d22",
   "metadata": {},
   "outputs": [
    {
     "data": {
      "text/plain": [
       "time\n",
       "1979-02-01 01:00:00    0.02\n",
       "1979-02-01 02:00:00    0.02\n",
       "1979-02-01 03:00:00    0.02\n",
       "1979-02-01 04:00:00    0.02\n",
       "1979-02-01 05:00:00    0.02\n",
       "Name: streamflow, dtype: float64"
      ]
     },
     "execution_count": 4,
     "metadata": {},
     "output_type": "execute_result"
    }
   ],
   "source": [
    "# Result is pandas.Series of streamflow data with a DateTimeIndex in m^3/s\n",
    "streamflow.head()"
   ]
  },
  {
   "cell_type": "code",
   "execution_count": 5,
   "id": "1dbc0bc3-7ccb-45da-a266-3626a2979e06",
   "metadata": {},
   "outputs": [
    {
     "data": {
      "text/plain": [
       "(Timestamp('1979-02-01 01:00:00'), Timestamp('2023-02-01 00:00:00'))"
      ]
     },
     "execution_count": 5,
     "metadata": {},
     "output_type": "execute_result"
    }
   ],
   "source": [
    "# Look at data limits\n",
    "streamflow.index.min(), streamflow.index.max()"
   ]
  },
  {
   "cell_type": "code",
   "execution_count": 6,
   "id": "eed7ea90-b45c-4f47-97a5-e5eb2d95e951",
   "metadata": {},
   "outputs": [],
   "source": [
    "# Trim to whole water-years (Oct 1 - Sep 30)\n",
    "# Note padding of 6 days so every water year\n",
    "# will have the same number of 7-day averages\n",
    "start = pd.Timestamp(\"1979-10-01T00:00\") - pd.Timedelta(\"6d\")\n",
    "end = pd.Timestamp(\"2022-09-30T23:00\")\n",
    "streamflow_trimmed = streamflow[start:end]"
   ]
  },
  {
   "cell_type": "code",
   "execution_count": 7,
   "id": "ab988772-64d0-422e-a7b8-2064491b29e1",
   "metadata": {},
   "outputs": [],
   "source": [
    "# Now we compute the yearly peaks\n",
    "streamflow_yearly_max = streamflow_trimmed.resample(\"1YE\").max()\n",
    "\n",
    "# Update the index\n",
    "streamflow_yearly_max.index.name = \"water_year\"\n",
    "streamflow_yearly_max.index = streamflow_yearly_max.index.year"
   ]
  },
  {
   "cell_type": "code",
   "execution_count": 8,
   "id": "19b48d1f-199d-43e5-adc0-e48a31885428",
   "metadata": {},
   "outputs": [
    {
     "data": {
      "text/plain": [
       "water_year\n",
       "1979     0.03\n",
       "1980     5.14\n",
       "1981     7.21\n",
       "1982    18.20\n",
       "1983     7.95\n",
       "Name: streamflow, dtype: float64"
      ]
     },
     "execution_count": 8,
     "metadata": {},
     "output_type": "execute_result"
    }
   ],
   "source": [
    "streamflow_yearly_max.head()"
   ]
  },
  {
   "cell_type": "code",
   "execution_count": 9,
   "id": "5cb6d0dc-ed87-4c1b-b71b-7a8d8a30a750",
   "metadata": {},
   "outputs": [],
   "source": [
    "# Now we compute the daily peaks\n",
    "streamflow_daily_max = streamflow_trimmed.resample(\"1D\").max()\n",
    "\n",
    "# Update the index\n",
    "streamflow_daily_max.index.name = \"water_day\"\n",
    "streamflow_daily_max.index = streamflow_daily_max.index.date"
   ]
  },
  {
   "cell_type": "code",
   "execution_count": 10,
   "id": "e7d80fdb-64e6-4799-aa02-05b1dd8ac7cb",
   "metadata": {},
   "outputs": [
    {
     "data": {
      "text/plain": [
       "1979-09-25    0.03\n",
       "1979-09-26    0.03\n",
       "1979-09-27    0.03\n",
       "1979-09-28    0.03\n",
       "1979-09-29    0.03\n",
       "Name: streamflow, dtype: float64"
      ]
     },
     "execution_count": 10,
     "metadata": {},
     "output_type": "execute_result"
    }
   ],
   "source": [
    "streamflow_daily_max.head()"
   ]
  },
  {
   "cell_type": "code",
   "execution_count": 11,
   "id": "d7271bd8-27da-471b-a560-33da3c554930",
   "metadata": {},
   "outputs": [
    {
     "name": "stdout",
     "output_type": "stream",
     "text": [
      "Recurrence Interval: 1.5 years\n",
      " Annual Exceedance Probability: 66.67 %\n",
      " Quantile: 0.33\n",
      " Percentile: 33.33-th\n",
      "\n"
     ]
    }
   ],
   "source": [
    "# Convert recurrence interval (RI) to quantile\n",
    "recurrence_interval = 1.5\n",
    "annual_exeedance_probability = 1.0 / recurrence_interval\n",
    "quantile = 1.0 - annual_exeedance_probability\n",
    "percentile = 100.0 * quantile\n",
    "print(\n",
    "    f\"Recurrence Interval: {recurrence_interval} years\\n\",\n",
    "    f\"Annual Exceedance Probability: {annual_exeedance_probability*100.0:.2f} %\\n\",\n",
    "    f\"Quantile: {quantile:.2f}\\n\",\n",
    "    f\"Percentile: {percentile:.2f}-th\\n\"\n",
    ")"
   ]
  },
  {
   "cell_type": "code",
   "execution_count": 12,
   "id": "4507bdb7-3fde-4b4c-ac09-071fe998e3f6",
   "metadata": {},
   "outputs": [
    {
     "name": "stdout",
     "output_type": "stream",
     "text": [
      "Recurrence Interval: 547.9 days\n",
      " Daily Exceedance Probability: 0.1825 %\n",
      " Daily Quantile: 0.9982\n",
      " Daily Percentile: 99.82-th\n",
      "\n"
     ]
    }
   ],
   "source": [
    "# Convert recurrence interval (RI) to daily quantile\n",
    "daily_recurrence_interval = recurrence_interval * 365.25\n",
    "daily_exeedance_probability = 1.0 / daily_recurrence_interval\n",
    "daily_quantile = 1.0 - daily_exeedance_probability\n",
    "daily_percentile = 100.0 * daily_quantile\n",
    "print(\n",
    "    f\"Recurrence Interval: {daily_recurrence_interval:.1f} days\\n\",\n",
    "    f\"Daily Exceedance Probability: {daily_exeedance_probability*100.0:.4f} %\\n\",\n",
    "    f\"Daily Quantile: {daily_quantile:.4f}\\n\",\n",
    "    f\"Daily Percentile: {daily_percentile:.2f}-th\\n\"\n",
    ")"
   ]
  },
  {
   "cell_type": "code",
   "execution_count": 13,
   "id": "380d1cdc-9154-4a0a-b4e3-40e3bd59933f",
   "metadata": {},
   "outputs": [
    {
     "data": {
      "text/plain": [
       "'Empirical 1.5Y RI flow rounded to model precision is 5.17 m^3/s'"
      ]
     },
     "execution_count": 13,
     "metadata": {},
     "output_type": "execute_result"
    }
   ],
   "source": [
    "# Empirical exceedance (annual)\n",
    "empirical_1_5RI = streamflow_yearly_max.quantile(quantile)\n",
    "f\"Empirical {recurrence_interval}Y RI flow rounded to model precision is {empirical_1_5RI:.2f} m^3/s\""
   ]
  },
  {
   "cell_type": "code",
   "execution_count": 14,
   "id": "9ef985cf-2a1f-4401-8d23-e6fe996b7e4e",
   "metadata": {},
   "outputs": [
    {
     "data": {
      "text/plain": [
       "'Empirical 547.9 day RI flow rounded to model precision is 28.53 m^3/s'"
      ]
     },
     "execution_count": 14,
     "metadata": {},
     "output_type": "execute_result"
    }
   ],
   "source": [
    "# Empirical exceedance (daily)\n",
    "daily_empirical_1_5RI = streamflow_daily_max.quantile(daily_quantile)\n",
    "f\"Empirical {daily_recurrence_interval:.1f} day RI flow rounded to model precision is {daily_empirical_1_5RI:.2f} m^3/s\""
   ]
  },
  {
   "cell_type": "code",
   "execution_count": 15,
   "id": "2669d81f-adbf-4275-92f0-3f81d3481a0b",
   "metadata": {},
   "outputs": [
    {
     "data": {
      "text/plain": [
       "'Fitted 1.5Y RI flow rounded to model precision is 3.36 m^3/s'"
      ]
     },
     "execution_count": 15,
     "metadata": {},
     "output_type": "execute_result"
    }
   ],
   "source": [
    "# Fitting to a distribution\n",
    "streamflow_logs = np.log(streamflow_yearly_max)\n",
    "pearson_params = pearson3.fit(streamflow_logs)\n",
    "fitted_1_5RI = np.exp(pearson3.ppf(quantile, *pearson_params))\n",
    "f\"Fitted {recurrence_interval}Y RI flow rounded to model precision is {fitted_1_5RI:.2f} m^3/s\""
   ]
  },
  {
   "cell_type": "code",
   "execution_count": 17,
   "id": "df5bb1ac-f3f3-4da7-b4d8-716d550290b9",
   "metadata": {},
   "outputs": [
    {
     "data": {
      "image/png": "[encoded data removed]",
      "text/plain": [
       "<Figure size 640x480 with 1 Axes>"
      ]
     },
     "metadata": {},
     "output_type": "display_data"
    }
   ],
   "source": [
    "# Plot fit\n",
    "x = np.linspace(streamflow_logs.min(), streamflow_logs.max(), 100)\n",
    "y = 1.0 - pearson3.cdf(x, *pearson_params)\n",
    "n = len(streamflow_yearly_max)\n",
    "x_emp = np.round(streamflow_yearly_max.sort_values(), 2)\n",
    "y_emp = 1.0 - ((np.arange(n) + 1.0) / (n + 1.0))\n",
    "plt.plot(np.exp(x), y, label=\"Fitted\")\n",
    "plt.plot(x_emp, y_emp, \".\", label=\"Empirical\")\n",
    "plt.plot([empirical_1_5RI], [annual_exeedance_probability], \"^\", label=f\"Empirical {recurrence_interval}Y\")\n",
    "plt.plot([daily_empirical_1_5RI], [annual_exeedance_probability], \"s\", label=f\"Empirical {daily_recurrence_interval:.1f}D\")\n",
    "plt.xlabel(\"Annual Maximum Streamflow ($m^3 s^{-1}$)\")\n",
    "plt.ylabel(\"Annual Probability of Exceedance\")\n",
    "plt.legend()\n",
    "plt.show()"
   ]
  },
  {
   "cell_type": "code",
   "execution_count": null,
   "id": "d2d15087-a754-43ac-9e1f-79dd4c8fabbe",
   "metadata": {},
   "outputs": [],
   "source": []
  }
 ],
 "metadata": {
  "kernelspec": {
   "display_name": "Python 3 (ipykernel)",
   "language": "python",
   "name": "python3"
  },
  "language_info": {
   "codemirror_mode": {
    "name": "ipython",
    "version": 3
   },
   "file_extension": ".py",
   "mimetype": "text/x-python",
   "name": "python",
   "nbconvert_exporter": "python",
   "pygments_lexer": "ipython3",
   "version": "3.12.2"
  }
 },
 "nbformat": 4,
 "nbformat_minor": 5
}
